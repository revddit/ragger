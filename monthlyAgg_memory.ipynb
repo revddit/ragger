{
 "cells": [
  {
   "cell_type": "code",
   "execution_count": 21,
   "id": "67c4a5b4-1c9b-4634-8a57-07a8a7cdbf8b",
   "metadata": {},
   "outputs": [
    {
     "name": "stdout",
     "output_type": "stream",
     "text": [
      "2021-07-05 19:17  Index           800000\n",
      "created_utc     400000\n",
      "subreddit      1022342\n",
      "score           400000\n",
      "is_removed      100000\n",
      "id_int          800000\n",
      "dtype: int64\n",
      "2021-07-05 19:17  3.3591670989990234 MB\n"
     ]
    }
   ],
   "source": [
    "import json\n",
    "import pandas as pd\n",
    "import numpy as np\n",
    "import os.path\n",
    "import re\n",
    "from os import listdir, remove\n",
    "from os.path import isfile, join\n",
    "from logger import log\n",
    "import gc\n",
    "\n",
    "def sum_pos(s):\n",
    "    return s[s>0].sum()\n",
    "\n",
    "def count_pos(s):\n",
    "    return s[s>0].count()\n",
    "\n",
    "def base36_to_int(val):\n",
    "    return int(str(val), 36)\n",
    "\n",
    "## After .agg(), id_int_last will be a float\n",
    "## So, need to cast to int\n",
    "def int_to_base36(integer):\n",
    "    return np.base_repr(int(integer), 36).lower()\n",
    "\n",
    "def logMemUsage(df, deep=False):\n",
    "    mem = df.memory_usage(deep=deep)\n",
    "    log(str(mem))\n",
    "    log(str(mem.sum() / (1024**2))+\" MB\")\n",
    "\n",
    "input_file = 'test/1-pushshift_slim/RC_2018-11.csv'\n",
    "n_rows = 100\n",
    "\n",
    "# df = pd.read_csv(input_file,\n",
    "#                          dtype={'id': 'str',\n",
    "#                                 'created_utc': 'int',\n",
    "#                                 'subreddit': 'category',\n",
    "#                                 'score': 'int', # Saves memory. Hard to believe a reddit score will ever exceed 2 billion. Current top is 439k\n",
    "#                                 'is_removed': 'bool'})\n",
    "\n",
    "df = pd.read_csv(input_file,\n",
    "                         dtype={'id': 'str',\n",
    "                                'created_utc': 'uint32',\n",
    "                                'subreddit': 'category',\n",
    "                                'score': 'int32', # Saves memory. Hard to believe a reddit score will ever exceed 2 billion. Current top is 439k\n",
    "                                'is_removed': 'bool'})\n",
    "\n",
    "df.drop_duplicates(subset='id', keep='last', inplace=True)\n",
    "## Sort input data, don't assume it is already sorted\n",
    "df['id_int'] = df.id.apply(base36_to_int)\n",
    "df.sort_values(['created_utc', 'id_int'], ascending=[True, True], inplace=True)\n",
    "df.drop('id', axis=1, inplace=True)\n",
    "g = df.groupby('subreddit').cumcount() // n_rows\n",
    "logMemUsage(df,True)"
   ]
  },
  {
   "cell_type": "code",
   "execution_count": 22,
   "id": "f3af0c27-7909-4ea6-bba6-7fb1756becc5",
   "metadata": {},
   "outputs": [
    {
     "name": "stdout",
     "output_type": "stream",
     "text": [
      "2021-07-05 19:17  df_agg = (df.groupby...) complete\n",
      "2021-07-05 19:17  Index          2913576\n",
      "created_utc     400000\n",
      "subreddit      1022342\n",
      "score           400000\n",
      "is_removed      100000\n",
      "id_int          800000\n",
      "dtype: int64\n",
      "2021-07-05 19:17  5.37483024597168 MB\n",
      "2021-07-05 19:17  Index         2913576\n",
      "subreddit     1022342\n",
      "score          400000\n",
      "is_removed     100000\n",
      "id_int         800000\n",
      "dtype: int64\n",
      "2021-07-05 19:17  4.99336051940918 MB\n",
      "2021-07-05 19:17  removed_df = complete\n",
      "2021-07-05 19:17  df_agg.columns = complete\n"
     ]
    }
   ],
   "source": [
    "df_agg = (df.groupby(['subreddit', g], sort=False, observed=True)\n",
    "          .agg({'score': [sum_pos,'count'], 'created_utc':'last', 'id_int':'last'}))\n",
    "log('df_agg = (df.groupby...) complete')\n",
    "logMemUsage(df,True)\n",
    "df.drop(['created_utc'], axis=1, inplace=True)\n",
    "df_agg_pickle_file = 'tmp_monthly_df_agg.pickle'\n",
    "df_agg.to_pickle(df_agg_pickle_file)\n",
    "del df_agg\n",
    "gc.collect()\n",
    "logMemUsage(df,True)\n",
    "removed_df_score = df[(df['is_removed']) & (df['score'] > 1)].groupby(['subreddit', g], sort=False)['score']\n",
    "df.drop(['score', 'subreddit', 'is_removed'], axis=1, inplace=True)\n",
    "removed_df = removed_df_score.agg(['sum', 'count', 'idxmax', 'max'])\n",
    "log('removed_df = complete')\n",
    "del g\n",
    "gc.collect()\n",
    "df_agg = pd.read_pickle(df_agg_pickle_file)\n",
    "remove(df_agg_pickle_file)\n",
    "df_agg.columns = df_agg.columns.map('{0[0]}_{0[1]}'.format)\n",
    "log('df_agg.columns = complete')"
   ]
  },
  {
   "cell_type": "code",
   "execution_count": 23,
   "id": "e1b735f5-a704-46bd-9df8-57ca709a7b11",
   "metadata": {},
   "outputs": [],
   "source": [
    "df_agg['rate'] = df_agg[['score_sum_pos']].rdiv(removed_df['sum'], axis=0)"
   ]
  },
  {
   "cell_type": "code",
   "execution_count": 24,
   "id": "a26f9284-b58b-4263-93cb-27b7ea71b706",
   "metadata": {},
   "outputs": [
    {
     "name": "stdout",
     "output_type": "stream",
     "text": [
      "2021-07-05 19:17  df_agg[] = removed_df complete\n"
     ]
    }
   ],
   "source": [
    "df_agg['num_pos_upvotes_removed'] = removed_df['sum']\n",
    "df_agg['num_items_with_pos_upvotes_removed'] = removed_df['count']\n",
    "df_agg['score_of_max_pos_removed_item'] = removed_df['max']\n",
    "df_agg['id_of_max_pos_removed_item'] = removed_df['idxmax'].map(df['id_int'].apply(int_to_base36))\n",
    "\n",
    "#df_agg.id_int_last = df_agg.id_int_last.astype(int)\n",
    "\n",
    "df_agg.id_int_last = df_agg.id_int_last.apply(int_to_base36)\n",
    "\n",
    "d = {'created_utc_last':'last_created_utc','id_int_last':'last_id','score_sum_pos':'total_pos_upvotes','score_count':'total_items'}\n",
    "log('df_agg[] = removed_df complete')\n",
    "df = df_agg.reset_index(level=1, drop=True).reset_index().rename(columns=d)"
   ]
  }
 ],
 "metadata": {
  "kernelspec": {
   "display_name": "Python 3",
   "language": "python",
   "name": "python3"
  },
  "language_info": {
   "codemirror_mode": {
    "name": "ipython",
    "version": 3
   },
   "file_extension": ".py",
   "mimetype": "text/x-python",
   "name": "python",
   "nbconvert_exporter": "python",
   "pygments_lexer": "ipython3",
   "version": "3.9.5"
  }
 },
 "nbformat": 4,
 "nbformat_minor": 5
}
